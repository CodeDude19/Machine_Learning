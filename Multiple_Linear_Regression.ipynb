{
 "cells": [
  {
   "cell_type": "code",
   "execution_count": 71,
   "metadata": {},
   "outputs": [],
   "source": [
    "# Importing Libs\n",
    "import matplotlib.pyplot as plt\n",
    "import pandas as pd\n",
    "import numpy as np\n",
    "import pylab as pl\n",
    "%matplotlib inline"
   ]
  },
  {
   "cell_type": "code",
   "execution_count": 120,
   "metadata": {},
   "outputs": [],
   "source": [
    "# Importing Data\n",
    "df = pd.read_csv(\"C:\\\\Users\\\\Yasser Arafat\\\\Desktop\\\\FuelConsumptionCo2.csv\") \n",
    "cdf = df[['ENGINESIZE','CYLINDERS','FUELCONSUMPTION_CITY','FUELCONSUMPTION_HWY','FUELCONSUMPTION_COMB','CO2EMISSIONS']]\n",
    "# cdf.head(9)"
   ]
  },
  {
   "cell_type": "code",
   "execution_count": 109,
   "metadata": {},
   "outputs": [],
   "source": [
    "msk = np.random.rand(len(df)) < 0.8\n",
    "train = cdf[msk]\n",
    "test = cdf[~msk]"
   ]
  },
  {
   "cell_type": "code",
   "execution_count": 119,
   "metadata": {},
   "outputs": [
    {
     "name": "stdout",
     "output_type": "stream",
     "text": [
      "Coefficients:  [9.99183346 7.28894822 3.01955001 6.54685754]\n",
      "Intercept :  [64.61700957]\n"
     ]
    }
   ],
   "source": [
    "from sklearn import linear_model\n",
    "regr = linear_model.LinearRegression()\n",
    "x = np.asanyarray(train[['ENGINESIZE','CYLINDERS','FUELCONSUMPTION_HWY','FUELCONSUMPTION_CITY']])\n",
    "y = np.asanyarray(train[['CO2EMISSIONS']])\n",
    "regr.fit (x, y)\n",
    "# The coefficients\n",
    "print ('Coefficients: ', regr.coef_[0])\n",
    "print(\"Intercept : \",regr.intercept_)"
   ]
  },
  {
   "cell_type": "code",
   "execution_count": 125,
   "metadata": {},
   "outputs": [
    {
     "name": "stdout",
     "output_type": "stream",
     "text": [
      "Residual sum of squares: 528.67\n",
      "Variance score: 0.88\n"
     ]
    }
   ],
   "source": [
    "y_results= regr.predict(test[['ENGINESIZE','CYLINDERS','FUELCONSUMPTION_HWY','FUELCONSUMPTION_CITY']])\n",
    "x = np.asanyarray(test[['ENGINESIZE','CYLINDERS','FUELCONSUMPTION_HWY','FUELCONSUMPTION_CITY']])\n",
    "y = np.asanyarray(test[['CO2EMISSIONS']])\n",
    "print(\"Residual sum of squares: %.2f\" % np.mean((y_results - y) ** 2))\n",
    "# Explained variance score: 1 is perfect prediction\n",
    "print('Variance score: %.2f' % regr.score(x, y))"
   ]
  },
  {
   "cell_type": "code",
   "execution_count": 128,
   "metadata": {},
   "outputs": [
    {
     "name": "stdout",
     "output_type": "stream",
     "text": [
      "256.0 compared with 255 \n",
      "325.0 compared with 354 \n",
      "367.0 compared with 359 \n",
      "248.0 compared with 251 \n",
      "288.0 compared with 288 \n",
      "218.0 compared with 242 \n",
      "229.0 compared with 246 \n",
      "313.0 compared with 336 \n",
      "205.0 compared with 209 \n",
      "216.0 compared with 237 \n",
      "380.0 compared with 380 \n",
      "202.0 compared with 200 \n",
      "180.0 compared with 181 \n",
      "199.0 compared with 193 \n",
      "205.0 compared with 209 \n",
      "205.0 compared with 209 \n",
      "241.0 compared with 237 \n",
      "218.0 compared with 213 \n",
      "290.0 compared with 281 \n",
      "246.0 compared with 246 \n",
      "295.0 compared with 292 \n",
      "220.0 compared with 191 \n",
      "259.0 compared with 278 \n",
      "199.0 compared with 212 \n",
      "214.0 compared with 218 \n",
      "210.0 compared with 221 \n",
      "217.0 compared with 235 \n",
      "216.0 compared with 232 \n",
      "254.0 compared with 248 \n",
      "332.0 compared with 340 \n",
      "273.0 compared with 294 \n",
      "259.0 compared with 262 \n",
      "313.0 compared with 292 \n",
      "353.0 compared with 382 \n",
      "186.0 compared with 192 \n",
      "185.0 compared with 177 \n",
      "339.0 compared with 380 \n",
      "388.0 compared with 344 \n",
      "340.0 compared with 380 \n",
      "373.0 compared with 435 \n"
     ]
    }
   ],
   "source": [
    "#Comparing Predited Values with Original Data\n",
    "for i in range(int(len(y_results)*0.2)):\n",
    "    print(\"{} compared with {} \".format(round(y_results[i][0],0),y[i][0]))"
   ]
  },
  {
   "cell_type": "markdown",
   "metadata": {},
   "source": [
    "# Thus the Accuracy of our prediction model is 88%, and this 16% more accurate than our Simple Linear Regression of the same Data Set."
   ]
  }
 ],
 "metadata": {
  "kernelspec": {
   "display_name": "Python 3",
   "language": "python",
   "name": "python3"
  },
  "language_info": {
   "codemirror_mode": {
    "name": "ipython",
    "version": 3
   },
   "file_extension": ".py",
   "mimetype": "text/x-python",
   "name": "python",
   "nbconvert_exporter": "python",
   "pygments_lexer": "ipython3",
   "version": "3.7.2"
  }
 },
 "nbformat": 4,
 "nbformat_minor": 2
}
